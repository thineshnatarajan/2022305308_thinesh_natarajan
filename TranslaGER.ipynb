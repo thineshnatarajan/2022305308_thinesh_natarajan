{
  "nbformat": 4,
  "nbformat_minor": 0,
  "metadata": {
    "colab": {
      "provenance": [],
      "authorship_tag": "ABX9TyOp1Ff2wv6R75QL3TKsuYSE",
      "include_colab_link": true
    },
    "kernelspec": {
      "name": "python3",
      "display_name": "Python 3"
    },
    "language_info": {
      "name": "python"
    }
  },
  "cells": [
    {
      "cell_type": "markdown",
      "metadata": {
        "id": "view-in-github",
        "colab_type": "text"
      },
      "source": [
        "<a href=\"https://colab.research.google.com/github/thineshnatarajan/2022305308_thinesh_natarajan/blob/main/TranslaGER.ipynb\" target=\"_parent\"><img src=\"https://colab.research.google.com/assets/colab-badge.svg\" alt=\"Open In Colab\"/></a>"
      ]
    },
    {
      "cell_type": "code",
      "source": [
        "\n",
        "import googletrans\n",
        "from googletrans import Translator\n",
        "from gtts import gTTS\n",
        "import IPython.display as display\n",
        "# Function to translate text and convert to speech\n",
        "def translate_and_speak(text, src_lang=\"en\", dest_lang=\"de\"):\n",
        "    translator = Translator()\n",
        "    translated_text = translator.translate(text, src=src_lang, dest=dest_lang).text\n",
        "\n",
        "    print(f\"🔹 English: {text}\")\n",
        "    print(f\"🔹 German: {translated_text}\")\n",
        "\n",
        "    # Convert text to speech\n",
        "    tts = gTTS(translated_text, lang=dest_lang)\n",
        "    tts.save(\"translated_audio.mp3\")\n",
        "\n",
        "    # Play the audio\n",
        "    display.display(display.Audio(\"translated_audio.mp3\", autoplay=True))\n",
        "# Example usage\n",
        "text_to_translate = \"Hello, how are you?\"\n",
        "translate_and_speak(text_to_translate)"
      ],
      "metadata": {
        "id": "B3NDMXHITITs"
      },
      "execution_count": null,
      "outputs": []
    }
  ]
}